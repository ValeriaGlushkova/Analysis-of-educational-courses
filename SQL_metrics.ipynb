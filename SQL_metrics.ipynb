{
 "cells": [
  {
   "cell_type": "code",
   "execution_count": 3,
   "metadata": {},
   "outputs": [],
   "source": [
    "import pandas as pd\n",
    "import pandahouse as ph"
   ]
  },
  {
   "cell_type": "markdown",
   "metadata": {},
   "source": [
    "Создаем словарь с нужными подключениями"
   ]
  },
  {
   "cell_type": "code",
   "execution_count": 178,
   "metadata": {},
   "outputs": [],
   "source": [
    "connection_default = {'host': 'https://clickhouse.lab.karpov.courses',\n",
    "                      'database':'default',\n",
    "                      'user':'student', \n",
    "                      'password':'dpo_python_2020'\n",
    "                     }"
   ]
  },
  {
   "cell_type": "markdown",
   "metadata": {},
   "source": [
    "Посмотрим на данные."
   ]
  },
  {
   "cell_type": "code",
   "execution_count": 179,
   "metadata": {},
   "outputs": [
    {
     "data": {
      "text/html": [
       "<div>\n",
       "<style scoped>\n",
       "    .dataframe tbody tr th:only-of-type {\n",
       "        vertical-align: middle;\n",
       "    }\n",
       "\n",
       "    .dataframe tbody tr th {\n",
       "        vertical-align: top;\n",
       "    }\n",
       "\n",
       "    .dataframe thead th {\n",
       "        text-align: right;\n",
       "    }\n",
       "</style>\n",
       "<table border=\"1\" class=\"dataframe\">\n",
       "  <thead>\n",
       "    <tr style=\"text-align: right;\">\n",
       "      <th></th>\n",
       "      <th>st_id</th>\n",
       "      <th>timest</th>\n",
       "      <th>correct</th>\n",
       "      <th>subject</th>\n",
       "    </tr>\n",
       "  </thead>\n",
       "  <tbody>\n",
       "    <tr>\n",
       "      <th>0</th>\n",
       "      <td>100379</td>\n",
       "      <td>2021-10-30 13:32:29</td>\n",
       "      <td>1</td>\n",
       "      <td>Theory of probability</td>\n",
       "    </tr>\n",
       "    <tr>\n",
       "      <th>1</th>\n",
       "      <td>100379</td>\n",
       "      <td>2021-10-30 14:11:19</td>\n",
       "      <td>0</td>\n",
       "      <td>Vizualization</td>\n",
       "    </tr>\n",
       "    <tr>\n",
       "      <th>2</th>\n",
       "      <td>100379</td>\n",
       "      <td>2021-10-30 15:54:22</td>\n",
       "      <td>1</td>\n",
       "      <td>Theory of probability</td>\n",
       "    </tr>\n",
       "    <tr>\n",
       "      <th>3</th>\n",
       "      <td>100379</td>\n",
       "      <td>2021-10-30 16:44:50</td>\n",
       "      <td>1</td>\n",
       "      <td>Vizualization</td>\n",
       "    </tr>\n",
       "    <tr>\n",
       "      <th>4</th>\n",
       "      <td>100379</td>\n",
       "      <td>2021-10-30 17:15:05</td>\n",
       "      <td>1</td>\n",
       "      <td>Theory of probability</td>\n",
       "    </tr>\n",
       "  </tbody>\n",
       "</table>\n",
       "</div>"
      ],
      "text/plain": [
       "    st_id              timest  correct                subject\n",
       "0  100379 2021-10-30 13:32:29        1  Theory of probability\n",
       "1  100379 2021-10-30 14:11:19        0          Vizualization\n",
       "2  100379 2021-10-30 15:54:22        1  Theory of probability\n",
       "3  100379 2021-10-30 16:44:50        1          Vizualization\n",
       "4  100379 2021-10-30 17:15:05        1  Theory of probability"
      ]
     },
     "execution_count": 179,
     "metadata": {},
     "output_type": "execute_result"
    }
   ],
   "source": [
    "q = '''\n",
    "    SELECT\n",
    "        st_id,\n",
    "        timest::DATETIME AS timest,\n",
    "        correct,\n",
    "        subject        \n",
    "    FROM default.peas\n",
    "    LIMIT 5\n",
    "    '''\n",
    "\n",
    "peas = ph.read_clickhouse(query=q, connection=connection_default)\n",
    "peas"
   ]
  },
  {
   "cell_type": "code",
   "execution_count": 180,
   "metadata": {},
   "outputs": [
    {
     "data": {
      "text/html": [
       "<div>\n",
       "<style scoped>\n",
       "    .dataframe tbody tr th:only-of-type {\n",
       "        vertical-align: middle;\n",
       "    }\n",
       "\n",
       "    .dataframe tbody tr th {\n",
       "        vertical-align: top;\n",
       "    }\n",
       "\n",
       "    .dataframe thead th {\n",
       "        text-align: right;\n",
       "    }\n",
       "</style>\n",
       "<table border=\"1\" class=\"dataframe\">\n",
       "  <thead>\n",
       "    <tr style=\"text-align: right;\">\n",
       "      <th></th>\n",
       "      <th>st_id</th>\n",
       "      <th>test_grp</th>\n",
       "    </tr>\n",
       "  </thead>\n",
       "  <tbody>\n",
       "    <tr>\n",
       "      <th>0</th>\n",
       "      <td>100379</td>\n",
       "      <td>pilot</td>\n",
       "    </tr>\n",
       "    <tr>\n",
       "      <th>1</th>\n",
       "      <td>101432</td>\n",
       "      <td>control</td>\n",
       "    </tr>\n",
       "    <tr>\n",
       "      <th>2</th>\n",
       "      <td>104818</td>\n",
       "      <td>pilot</td>\n",
       "    </tr>\n",
       "    <tr>\n",
       "      <th>3</th>\n",
       "      <td>104885</td>\n",
       "      <td>pilot</td>\n",
       "    </tr>\n",
       "    <tr>\n",
       "      <th>4</th>\n",
       "      <td>104966</td>\n",
       "      <td>pilot</td>\n",
       "    </tr>\n",
       "  </tbody>\n",
       "</table>\n",
       "</div>"
      ],
      "text/plain": [
       "    st_id test_grp\n",
       "0  100379    pilot\n",
       "1  101432  control\n",
       "2  104818    pilot\n",
       "3  104885    pilot\n",
       "4  104966    pilot"
      ]
     },
     "execution_count": 180,
     "metadata": {},
     "output_type": "execute_result"
    }
   ],
   "source": [
    "q = '''\n",
    "    SELECT\n",
    "        st_id,\n",
    "        test_grp       \n",
    "    FROM default.studs\n",
    "    LIMIT 5\n",
    "    '''\n",
    "\n",
    "studs = ph.read_clickhouse(query=q, connection=connection_default)\n",
    "studs"
   ]
  },
  {
   "cell_type": "code",
   "execution_count": 181,
   "metadata": {},
   "outputs": [
    {
     "data": {
      "text/html": [
       "<div>\n",
       "<style scoped>\n",
       "    .dataframe tbody tr th:only-of-type {\n",
       "        vertical-align: middle;\n",
       "    }\n",
       "\n",
       "    .dataframe tbody tr th {\n",
       "        vertical-align: top;\n",
       "    }\n",
       "\n",
       "    .dataframe thead th {\n",
       "        text-align: right;\n",
       "    }\n",
       "</style>\n",
       "<table border=\"1\" class=\"dataframe\">\n",
       "  <thead>\n",
       "    <tr style=\"text-align: right;\">\n",
       "      <th></th>\n",
       "      <th>st_id</th>\n",
       "      <th>sale_time</th>\n",
       "      <th>money</th>\n",
       "      <th>subject</th>\n",
       "    </tr>\n",
       "  </thead>\n",
       "  <tbody>\n",
       "    <tr>\n",
       "      <th>0</th>\n",
       "      <td>101432</td>\n",
       "      <td>2021-10-31 04:44:32</td>\n",
       "      <td>85000</td>\n",
       "      <td>Math</td>\n",
       "    </tr>\n",
       "    <tr>\n",
       "      <th>1</th>\n",
       "      <td>101432</td>\n",
       "      <td>2021-10-31 12:43:50</td>\n",
       "      <td>65000</td>\n",
       "      <td>Vizualization</td>\n",
       "    </tr>\n",
       "    <tr>\n",
       "      <th>2</th>\n",
       "      <td>104885</td>\n",
       "      <td>2021-10-30 17:05:55</td>\n",
       "      <td>65000</td>\n",
       "      <td>Vizualization</td>\n",
       "    </tr>\n",
       "    <tr>\n",
       "      <th>3</th>\n",
       "      <td>104885</td>\n",
       "      <td>2021-10-30 22:49:33</td>\n",
       "      <td>75000</td>\n",
       "      <td>Statistics</td>\n",
       "    </tr>\n",
       "    <tr>\n",
       "      <th>4</th>\n",
       "      <td>106464</td>\n",
       "      <td>2021-10-31 13:17:13</td>\n",
       "      <td>85000</td>\n",
       "      <td>Math</td>\n",
       "    </tr>\n",
       "  </tbody>\n",
       "</table>\n",
       "</div>"
      ],
      "text/plain": [
       "    st_id           sale_time  money        subject\n",
       "0  101432 2021-10-31 04:44:32  85000           Math\n",
       "1  101432 2021-10-31 12:43:50  65000  Vizualization\n",
       "2  104885 2021-10-30 17:05:55  65000  Vizualization\n",
       "3  104885 2021-10-30 22:49:33  75000     Statistics\n",
       "4  106464 2021-10-31 13:17:13  85000           Math"
      ]
     },
     "execution_count": 181,
     "metadata": {},
     "output_type": "execute_result"
    }
   ],
   "source": [
    "q = '''\n",
    "    SELECT\n",
    "        st_id,\n",
    "        sale_time::DATETIME AS sale_time, \n",
    "        money,\n",
    "        subject\n",
    "    FROM default.final_project_check\n",
    "    LIMIT 5\n",
    "    '''\n",
    "\n",
    "final_project_check = ph.read_clickhouse(query=q, connection=connection_default)\n",
    "final_project_check"
   ]
  },
  {
   "cell_type": "markdown",
   "metadata": {},
   "source": [
    "Необходимо понять временной промежуток. Для этого посмотрим минимальную и максимальную даты."
   ]
  },
  {
   "cell_type": "code",
   "execution_count": 182,
   "metadata": {},
   "outputs": [
    {
     "data": {
      "text/html": [
       "<div>\n",
       "<style scoped>\n",
       "    .dataframe tbody tr th:only-of-type {\n",
       "        vertical-align: middle;\n",
       "    }\n",
       "\n",
       "    .dataframe tbody tr th {\n",
       "        vertical-align: top;\n",
       "    }\n",
       "\n",
       "    .dataframe thead th {\n",
       "        text-align: right;\n",
       "    }\n",
       "</style>\n",
       "<table border=\"1\" class=\"dataframe\">\n",
       "  <thead>\n",
       "    <tr style=\"text-align: right;\">\n",
       "      <th></th>\n",
       "      <th>min_date</th>\n",
       "      <th>max_date</th>\n",
       "    </tr>\n",
       "  </thead>\n",
       "  <tbody>\n",
       "    <tr>\n",
       "      <th>0</th>\n",
       "      <td>2021-10-30</td>\n",
       "      <td>2021-10-31</td>\n",
       "    </tr>\n",
       "  </tbody>\n",
       "</table>\n",
       "</div>"
      ],
      "text/plain": [
       "    min_date   max_date\n",
       "0 2021-10-30 2021-10-31"
      ]
     },
     "execution_count": 182,
     "metadata": {},
     "output_type": "execute_result"
    }
   ],
   "source": [
    "q = '''\n",
    "    SELECT\n",
    "        MIN(timest::DATE) AS min_date,\n",
    "        MAX(timest::DATE) AS max_date\n",
    "    FROM default.peas\n",
    "    '''\n",
    "\n",
    "dates_1 = ph.read_clickhouse(query=q, connection=connection_default)\n",
    "dates_1"
   ]
  },
  {
   "cell_type": "code",
   "execution_count": 183,
   "metadata": {},
   "outputs": [
    {
     "data": {
      "text/html": [
       "<div>\n",
       "<style scoped>\n",
       "    .dataframe tbody tr th:only-of-type {\n",
       "        vertical-align: middle;\n",
       "    }\n",
       "\n",
       "    .dataframe tbody tr th {\n",
       "        vertical-align: top;\n",
       "    }\n",
       "\n",
       "    .dataframe thead th {\n",
       "        text-align: right;\n",
       "    }\n",
       "</style>\n",
       "<table border=\"1\" class=\"dataframe\">\n",
       "  <thead>\n",
       "    <tr style=\"text-align: right;\">\n",
       "      <th></th>\n",
       "      <th>min_date</th>\n",
       "      <th>max_date</th>\n",
       "    </tr>\n",
       "  </thead>\n",
       "  <tbody>\n",
       "    <tr>\n",
       "      <th>0</th>\n",
       "      <td>2021-10-30</td>\n",
       "      <td>2021-10-31</td>\n",
       "    </tr>\n",
       "  </tbody>\n",
       "</table>\n",
       "</div>"
      ],
      "text/plain": [
       "    min_date   max_date\n",
       "0 2021-10-30 2021-10-31"
      ]
     },
     "execution_count": 183,
     "metadata": {},
     "output_type": "execute_result"
    }
   ],
   "source": [
    "q = '''\n",
    "    SELECT\n",
    "        MIN(sale_time::DATE) AS min_date,\n",
    "        MAX(sale_time::DATE) AS max_date\n",
    "    FROM default.final_project_check\n",
    "    '''\n",
    "\n",
    "dates_2 = ph.read_clickhouse(query=q, connection=connection_default)\n",
    "dates_2"
   ]
  },
  {
   "cell_type": "markdown",
   "metadata": {},
   "source": [
    "Данные лежат в пределах одного месяца."
   ]
  },
  {
   "cell_type": "markdown",
   "metadata": {},
   "source": [
    "Найдем количество очень усердных студентов."
   ]
  },
  {
   "cell_type": "markdown",
   "metadata": {},
   "source": [
    "В данном случае нам важно общее количество правильно решенных горошин у каждого студента вне зависимости от предмета. Так как правильность решения \"горошины\" обозначена 0 и 1, то на достаточно суммировать correct для каждого студента, а затем посчитать кол-во студентов, у которых сумма >=20. "
   ]
  },
  {
   "cell_type": "code",
   "execution_count": 184,
   "metadata": {},
   "outputs": [
    {
     "data": {
      "text/html": [
       "<div>\n",
       "<style scoped>\n",
       "    .dataframe tbody tr th:only-of-type {\n",
       "        vertical-align: middle;\n",
       "    }\n",
       "\n",
       "    .dataframe tbody tr th {\n",
       "        vertical-align: top;\n",
       "    }\n",
       "\n",
       "    .dataframe thead th {\n",
       "        text-align: right;\n",
       "    }\n",
       "</style>\n",
       "<table border=\"1\" class=\"dataframe\">\n",
       "  <thead>\n",
       "    <tr style=\"text-align: right;\">\n",
       "      <th></th>\n",
       "      <th>diligent_st_count</th>\n",
       "    </tr>\n",
       "  </thead>\n",
       "  <tbody>\n",
       "    <tr>\n",
       "      <th>0</th>\n",
       "      <td>136</td>\n",
       "    </tr>\n",
       "  </tbody>\n",
       "</table>\n",
       "</div>"
      ],
      "text/plain": [
       "   diligent_st_count\n",
       "0                136"
      ]
     },
     "execution_count": 184,
     "metadata": {},
     "output_type": "execute_result"
    }
   ],
   "source": [
    "q = '''\n",
    "    WITH correct_peas_count AS\n",
    "    (SELECT\n",
    "        st_id,\n",
    "        SUM(correct) AS correct_p\n",
    "    FROM default.peas    \n",
    "    GROUP BY st_id\n",
    "    )\n",
    "    \n",
    "    SELECT\n",
    "        COUNT(st_id) AS diligent_st_count\n",
    "    FROM correct_peas_count   \n",
    "    WHERE correct_p >= 20\n",
    "    '''\n",
    "diligent_students = ph.read_clickhouse(query=q, connection=connection_default)\n",
    "diligent_students"
   ]
  },
  {
   "cell_type": "markdown",
   "metadata": {},
   "source": [
    "Всего 136 усердных учеников."
   ]
  },
  {
   "cell_type": "markdown",
   "metadata": {},
   "source": [
    "Напишем запрос для нахождения всех необходимых метрик"
   ]
  },
  {
   "cell_type": "code",
   "execution_count": 185,
   "metadata": {},
   "outputs": [
    {
     "data": {
      "text/html": [
       "<div>\n",
       "<style scoped>\n",
       "    .dataframe tbody tr th:only-of-type {\n",
       "        vertical-align: middle;\n",
       "    }\n",
       "\n",
       "    .dataframe tbody tr th {\n",
       "        vertical-align: top;\n",
       "    }\n",
       "\n",
       "    .dataframe thead th {\n",
       "        text-align: right;\n",
       "    }\n",
       "</style>\n",
       "<table border=\"1\" class=\"dataframe\">\n",
       "  <thead>\n",
       "    <tr style=\"text-align: right;\">\n",
       "      <th></th>\n",
       "      <th>test_grp</th>\n",
       "      <th>ARPU</th>\n",
       "      <th>ARPAU</th>\n",
       "      <th>CR</th>\n",
       "      <th>CR_active</th>\n",
       "      <th>CR_math</th>\n",
       "    </tr>\n",
       "  </thead>\n",
       "  <tbody>\n",
       "    <tr>\n",
       "      <th>0</th>\n",
       "      <td>control</td>\n",
       "      <td>4540.98</td>\n",
       "      <td>10393.70</td>\n",
       "      <td>4.92</td>\n",
       "      <td>11.02</td>\n",
       "      <td>6.12</td>\n",
       "    </tr>\n",
       "    <tr>\n",
       "      <th>1</th>\n",
       "      <td>pilot</td>\n",
       "      <td>11508.47</td>\n",
       "      <td>29739.58</td>\n",
       "      <td>10.85</td>\n",
       "      <td>26.04</td>\n",
       "      <td>9.52</td>\n",
       "    </tr>\n",
       "  </tbody>\n",
       "</table>\n",
       "</div>"
      ],
      "text/plain": [
       "  test_grp      ARPU     ARPAU     CR  CR_active  CR_math\n",
       "0  control   4540.98  10393.70   4.92      11.02     6.12\n",
       "1    pilot  11508.47  29739.58  10.85      26.04     9.52"
      ]
     },
     "execution_count": 185,
     "metadata": {},
     "output_type": "execute_result"
    }
   ],
   "source": [
    "q = '''\n",
    "    WITH all_data AS (\n",
    "    \n",
    "    SELECT\n",
    "        s.st_id AS st_id,\n",
    "        test_grp,\n",
    "        money,\n",
    "        subject,\n",
    "        correct_p,\n",
    "        correct_math_p\n",
    "    FROM studs s\n",
    "    LEFT JOIN final_project_check f ON s.st_id = f.st_id\n",
    "    LEFT JOIN (\n",
    "                SELECT \n",
    "                    st_id, \n",
    "                    SUM(correct) AS correct_p,\n",
    "                    SUM(correct) FILTER(WHERE subject='Math') as correct_math_p\n",
    "                FROM peas\n",
    "                GROUP BY st_id\n",
    "                ) AS p \n",
    "    ON s.st_id = p.st_id\n",
    ")\n",
    "\n",
    "SELECT\n",
    "    test_grp,\n",
    "    ROUND(SUM(money) / COUNT(DISTINCT st_id), 2) AS ARPU, -- средняя выручка на одного пользователя\n",
    "    ROUND(SUM(money) FILTER(WHERE correct_p > 10) / COUNT(DISTINCT st_id) FILTER(WHERE correct_p > 10), 2) AS ARPAU, -- средняя выручка на одного активного пользователя\n",
    "    ROUND(COUNT(DISTINCT st_id) FILTER(WHERE money > 0) / COUNT(DISTINCT st_id) * 100, 2) AS CR, -- отношение числа тех, кто совершил покупку, и тех, кто посетил сайт\n",
    "    ROUND(COUNT(DISTINCT st_id) FILTER(WHERE money > 0 AND correct_p > 10) / COUNT(DISTINCT st_id) FILTER(WHERE correct_p > 10) * 100, 2) AS CR_active,\n",
    "    ROUND(COUNT(DISTINCT st_id) FILTER(WHERE money > 0 AND subject = 'Math' AND correct_math_p >= 2) / COUNT(DISTINCT st_id) FILTER(WHERE correct_math_p >= 2) * 100, 2) AS CR_math\n",
    "FROM all_data\n",
    "GROUP BY test_grp\n",
    "    '''\n",
    "funnel = ph.read_clickhouse(query=q, connection=connection_default)\n",
    "funnel"
   ]
  },
  {
   "cell_type": "markdown",
   "metadata": {},
   "source": [
    "В группе pilot, где использовалась модель trial, все метрики увеличились. "
   ]
  }
 ],
 "metadata": {
  "kernelspec": {
   "display_name": "Python 3",
   "language": "python",
   "name": "python3"
  },
  "language_info": {
   "codemirror_mode": {
    "name": "ipython",
    "version": 3
   },
   "file_extension": ".py",
   "mimetype": "text/x-python",
   "name": "python",
   "nbconvert_exporter": "python",
   "pygments_lexer": "ipython3",
   "version": "3.11.5"
  }
 },
 "nbformat": 4,
 "nbformat_minor": 4
}
